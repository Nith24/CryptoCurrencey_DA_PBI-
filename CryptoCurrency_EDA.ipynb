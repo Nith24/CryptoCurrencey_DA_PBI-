{
 "cells": [
  {
   "cell_type": "code",
   "execution_count": 6,
   "id": "59c889e4",
   "metadata": {
    "id": "59c889e4"
   },
   "outputs": [
    {
     "ename": "ModuleNotFoundError",
     "evalue": "No module named 'plotly'",
     "output_type": "error",
     "traceback": [
      "\u001b[1;31m---------------------------------------------------------------------------\u001b[0m",
      "\u001b[1;31mModuleNotFoundError\u001b[0m                       Traceback (most recent call last)",
      "\u001b[1;32m~\\AppData\\Local\\Temp/ipykernel_11304/759006426.py\u001b[0m in \u001b[0;36m<module>\u001b[1;34m\u001b[0m\n\u001b[0;32m      7\u001b[0m \u001b[1;32mimport\u001b[0m \u001b[0mseaborn\u001b[0m \u001b[1;32mas\u001b[0m \u001b[0msns\u001b[0m\u001b[1;33m\u001b[0m\u001b[1;33m\u001b[0m\u001b[0m\n\u001b[0;32m      8\u001b[0m \u001b[1;31m#import pandas_datareader.data as web\u001b[0m\u001b[1;33m\u001b[0m\u001b[1;33m\u001b[0m\u001b[1;33m\u001b[0m\u001b[0m\n\u001b[1;32m----> 9\u001b[1;33m \u001b[1;32mimport\u001b[0m \u001b[0mplotly\u001b[0m\u001b[1;33m.\u001b[0m\u001b[0mexpress\u001b[0m \u001b[1;32mas\u001b[0m \u001b[0mpx\u001b[0m\u001b[1;33m\u001b[0m\u001b[1;33m\u001b[0m\u001b[0m\n\u001b[0m\u001b[0;32m     10\u001b[0m \u001b[1;32mimport\u001b[0m \u001b[0mplotly\u001b[0m\u001b[1;33m.\u001b[0m\u001b[0mgraph_objects\u001b[0m \u001b[1;32mas\u001b[0m \u001b[0mgo\u001b[0m\u001b[1;33m\u001b[0m\u001b[1;33m\u001b[0m\u001b[0m\n\u001b[0;32m     11\u001b[0m \u001b[1;32mfrom\u001b[0m \u001b[0mdatetime\u001b[0m \u001b[1;32mimport\u001b[0m \u001b[0mdatetime\u001b[0m\u001b[1;33m,\u001b[0m \u001b[0mtimedelta\u001b[0m\u001b[1;33m\u001b[0m\u001b[1;33m\u001b[0m\u001b[0m\n",
      "\u001b[1;31mModuleNotFoundError\u001b[0m: No module named 'plotly'"
     ]
    }
   ],
   "source": [
    "#importing libraries\n",
    "import os\n",
    "\n",
    "import pandas as pd\n",
    "import numpy as np\n",
    "import matplotlib.pyplot as plt\n",
    "import seaborn as sns\n",
    "import pandas_datareader.data as web\n",
    "import plotly.express as px\n",
    "import plotly.graph_objects as go\n",
    "from datetime import datetime, timedelta\n",
    "\n",
    "import matplotlib.pyplot as plt\n",
    "from matplotlib.ticker import ScalarFormatter\n",
    "import warnings\n",
    "warnings.filterwarnings(\"ignore\")\n",
    "\n",
    "#for bold\n",
    "start='\\033[1m'\n",
    "end='\\033[0;0m'"
   ]
  },
  {
   "cell_type": "markdown",
   "id": "c774fd30",
   "metadata": {
    "id": "c774fd30"
   },
   "source": [
    "### Merging all the data csv of crytocurrencies"
   ]
  },
  {
   "cell_type": "code",
   "execution_count": null,
   "id": "aec3c318",
   "metadata": {
    "id": "aec3c318",
    "outputId": "11aab244-fc1f-45e6-9f9d-d46205f72e41",
    "scrolled": true
   },
   "outputs": [],
   "source": [
    "df = pd.DataFrame()\n",
    "for file in os.listdir(\"Data\"):\n",
    "    if file.endswith(\".csv\"):\n",
    "        df = pd.concat([df , pd.read_csv(os.path.join(\"Data\", file),infer_datetime_format=True)], axis=0 )\n",
    "\n",
    "df.reset_index(drop=True, inplace=True)\n",
    "df.drop('SNo',axis=1 ,inplace=True)\n",
    "df"
   ]
  },
  {
   "cell_type": "code",
   "execution_count": null,
   "id": "d73675ca",
   "metadata": {},
   "outputs": [],
   "source": []
  },
  {
   "cell_type": "code",
   "execution_count": null,
   "id": "5008840e",
   "metadata": {
    "id": "5008840e"
   },
   "outputs": [],
   "source": [
    "df['Date']=pd.to_datetime(df['Date']).dt.date"
   ]
  },
  {
   "cell_type": "code",
   "execution_count": null,
   "id": "7af1a798",
   "metadata": {},
   "outputs": [],
   "source": [
    "df.to_csv('final.csv')"
   ]
  },
  {
   "cell_type": "markdown",
   "id": "e58a050a",
   "metadata": {
    "id": "e58a050a"
   },
   "source": [
    "### Finding the top 5 crytpocurrencies by market cap"
   ]
  },
  {
   "cell_type": "code",
   "execution_count": null,
   "id": "0ea5c4de",
   "metadata": {
    "id": "0ea5c4de",
    "outputId": "0b6444b9-744b-4efb-a4bb-9cca89c6b1ca"
   },
   "outputs": [],
   "source": [
    "plt.figure(figsize=(18,5))\n",
    "ax = df.groupby(['Symbol'])['Marketcap'].last().sort_values(ascending=False).head(5).sort_values().plot(kind='barh')\n",
    "ax.set_xlabel(\"Market Cap (in billion USD)\")\n",
    "ax.ticklabel_format( style='plain', axis='x')\n",
    "plt.title(\"Top 5 Cryptocurrencies by Market Cap\", fontsize=15)\n",
    "plt.show()"
   ]
  },
  {
   "cell_type": "markdown",
   "id": "e1368b3a",
   "metadata": {
    "id": "e1368b3a"
   },
   "source": [
    "### Observation:\n",
    "Here we can see that Bitcoin is the highest value according to market cap and etherum is 50% of it.\n",
    "and all other are very less in comparison to it and USDT is 3 times less then the Etherum"
   ]
  },
  {
   "cell_type": "markdown",
   "id": "df841308",
   "metadata": {
    "id": "df841308"
   },
   "source": [
    "### Plotting Graphs of Closing Prices of Top 4 Cryptocurrencies as per Market Cap"
   ]
  },
  {
   "cell_type": "code",
   "execution_count": null,
   "id": "65fd4146",
   "metadata": {
    "id": "65fd4146"
   },
   "outputs": [],
   "source": [
    "dx=df.copy()\n",
    "\n",
    "top_4_currency_names = dx.groupby(['Symbol'])['Marketcap'].last().sort_values(ascending=False).head(4).index\n",
    "top_4_currency_names_except_first=dx[dx['Symbol']!='BTC'].groupby(['Symbol'])['Marketcap'].last().sort_values(ascending=False).head(4).index\n",
    "top_4_currency_names_except_first_two=dx[(dx['Symbol']!='BTC') & (dx['Symbol']!='ETH')].groupby(['Symbol'])['Marketcap'].last().sort_values(ascending=False).head(4).index\n",
    "top_4_currency_names_except_first_two_three=dx[(dx['Symbol']!='BTC') & (dx['Symbol']!='ETH')& (dx['Symbol']!='USDT')].groupby(['Symbol'])['Marketcap'].last().sort_values(ascending=False).head(4).index\n",
    "\n",
    "\n",
    "data_top_4_currencies = dx[dx['Symbol'].isin(top_4_currency_names)]\n",
    "top_4_currencies_after_BTC = dx[dx['Symbol'].isin(top_4_currency_names_except_first)]\n",
    "top_4_currencies_after_BTC_ETH = dx[dx['Symbol'].isin(top_4_currency_names_except_first_two)]\n",
    "top_4_currencies_after_BTC_ETH_USDT = dx[dx['Symbol'].isin(top_4_currency_names_except_first_two_three)]"
   ]
  },
  {
   "cell_type": "code",
   "execution_count": null,
   "id": "ca1e3bea",
   "metadata": {
    "id": "ca1e3bea",
    "outputId": "8234d766-8b47-46ca-a585-4e32b426ee40"
   },
   "outputs": [],
   "source": [
    "plt.figure(figsize=(20,25))\n",
    "\n",
    "plt.subplot(4,1,1)\n",
    "sns.lineplot(data=data_top_4_currencies, x=\"Date\", y=\"Close\", hue='Symbol')\n",
    "plt.title(\"Closing Prices of Top 4 Cryptocurrencies\", fontsize=20)\n",
    "plt.legend(loc='upper left')\n",
    "\n",
    "plt.subplot(4,1,2)\n",
    "sns.lineplot(data=top_4_currencies_after_BTC, x=\"Date\", y=\"Close\", hue='Symbol')\n",
    "plt.title(\"Closing Prices of Top 4 Cryptocurrencies except BTC\", fontsize=20)\n",
    "plt.legend(loc='upper left')\n",
    "\n",
    "plt.subplot(4,1,3)\n",
    "sns.lineplot(data=top_4_currencies_after_BTC_ETH,x=\"Date\", y=\"Close\", hue='Symbol')\n",
    "plt.title(\"Closing Prices of Top 4 Cryptocurrencies except BTC & ETH\", fontsize=20)\n",
    "plt.legend(loc='upper left')\n",
    "\n",
    "plt.subplot(4,1,4)\n",
    "sns.lineplot(data=top_4_currencies_after_BTC_ETH_USDT,x=\"Date\", y=\"Close\", hue='Symbol')\n",
    "plt.title(\"Closing Prices of Top 4 Cryptocurrencies except BTC, ETH & USDT\", fontsize=20)\n",
    "plt.legend(loc='upper left')\n",
    "\n",
    "plt.show()\n"
   ]
  },
  {
   "cell_type": "markdown",
   "id": "61887f91",
   "metadata": {
    "id": "61887f91"
   },
   "source": [
    "### Observation:\n",
    "In 2021 the value of BTC was at all-time high of nearly 60,000$ which is almost 15 times more than the second-highest cryptocurrency ETH .\n",
    "\n",
    "Among the top cryptocurrencies, the growth of BTC, ETH, and USTD over the last five years was beneficial for the investors."
   ]
  },
  {
   "cell_type": "code",
   "execution_count": null,
   "id": "433a696b",
   "metadata": {
    "id": "433a696b",
    "outputId": "16cb41f1-ef0e-4f27-bcf3-40e0f80d4ff5",
    "scrolled": true
   },
   "outputs": [],
   "source": [
    "for i in ['BTC','ETH','USDT','BNB','ADA']:\n",
    "    options=[i]\n",
    "    rslt_df = df[df['Symbol'].isin(options)] \n",
    "    layout = dict(\n",
    "            title=f\"{i} Candlestick Chart\",\n",
    "            xaxis=go.layout.XAxis(title=go.layout.xaxis.Title( text=\"Time\")),\n",
    "            yaxis=go.layout.YAxis(title=go.layout.yaxis.Title( text=\"Price US Dollars\"))\n",
    "    )\n",
    "    data=[go.Candlestick(x=rslt_df['Date'],\n",
    "                    open=rslt_df['Open'],\n",
    "                    high=rslt_df['High'],\n",
    "                    low=rslt_df['Low'],\n",
    "                    close=rslt_df['Close'])]\n",
    "    figSignal = go.Figure(data=data,layout=layout)\n",
    "\n",
    "    figSignal.show()"
   ]
  },
  {
   "cell_type": "markdown",
   "id": "bcdf1d1b",
   "metadata": {
    "id": "bcdf1d1b"
   },
   "source": [
    "### Observation:\n",
    "Investment in penny cryptocurrencies should be avoided, as depicted by the candlestick chart of USDT.\n",
    "\n",
    "It is visible in the candlestick chart of USDT that this cryptocurrency is volatile for a longer period.\n"
   ]
  },
  {
   "cell_type": "code",
   "execution_count": null,
   "id": "09d09658",
   "metadata": {
    "id": "09d09658"
   },
   "outputs": [],
   "source": []
  },
  {
   "cell_type": "code",
   "execution_count": null,
   "id": "1bbe1694",
   "metadata": {
    "id": "1bbe1694",
    "outputId": "ad3a082d-e82e-40df-978d-d5d3b1acbf13"
   },
   "outputs": [],
   "source": [
    "for i in ['BTC','ETH','USDT','BNB','ADA']:\n",
    "    j=1\n",
    "    dft=df[df['Symbol']==i]\n",
    "    top_currency_name = dft.groupby(['Symbol'])['Marketcap'].last().sort_values(ascending=False).index\n",
    "    top_currency = dft[dft['Symbol'].isin(top_currency_name)]\n",
    "    top_currency['Moving Average']=top_currency['Close'].rolling(window=50).mean()\n",
    "    top_currency['Moving Average 2']=top_currency['Close'].rolling(window=200).mean()\n",
    "    plt.subplot(5,1,j)\n",
    "    top_currency['Close'].plot(figsize=(15,18))\n",
    "    ax=top_currency['Moving Average'].rolling(window=50).mean().plot()\n",
    "    ax=top_currency['Moving Average 2'].rolling(window=200).mean().plot()\n",
    "    ax.set_ylabel(\"Price per 1 USD\");\n",
    "    plt.title(f\"Moving Average vs Closing Price {i}\", fontsize=25);\n",
    "    plt.legend()\n",
    "    j=j+1\n",
    "    plt.show()"
   ]
  },
  {
   "cell_type": "markdown",
   "id": "8be1292d",
   "metadata": {
    "id": "8be1292d"
   },
   "source": [
    "### Observation:\n",
    "\n",
    "In BTC and ETH\n",
    "\n",
    "They have shown a pattern of 2 golden cross and 2 death cross over the years.\n",
    "The last crossing point of moving averages was golden cross hence it was bullish.\n",
    "\n",
    "In USDT\n",
    "\n",
    "There are too many golden cross and death cross.\n",
    "Hence it is a volatile stock and should be avoided for the time being."
   ]
  },
  {
   "cell_type": "code",
   "execution_count": null,
   "id": "77f026aa",
   "metadata": {
    "id": "77f026aa"
   },
   "outputs": [],
   "source": [
    "import plotly.express as px"
   ]
  },
  {
   "cell_type": "code",
   "execution_count": null,
   "id": "2e276c00",
   "metadata": {
    "id": "2e276c00",
    "outputId": "14b09e04-84f5-4df9-ef59-ea0519ee82c5"
   },
   "outputs": [],
   "source": [
    "area = px.area(data_frame= df , x = \"Date\" ,y= \"High\", line_group=\"Name\" , color = \"Name\" , color_discrete_sequence=px.colors.qualitative.Alphabet_r,title = 'Area Plot for TOP Cryptocurrencies')\n",
    "\n",
    "area.update_xaxes(\n",
    "    title_text = 'Date',rangeslider_visible = True,rangeselector = dict(buttons = list([dict(count = 1, label = '1M', step = 'month', stepmode = 'backward'),\n",
    "            dict(count = 6, label = '6M', step = 'month', stepmode = 'backward'),\n",
    "            dict(count = 1, label = 'YTD', step = 'year', stepmode = 'todate'),\n",
    "            dict(count = 1, label = '1Y', step = 'year', stepmode = 'backward'),\n",
    "            dict(step = 'all')])))\n",
    "\n",
    "area.update_yaxes(title_text = 'Price in USD', ticksuffix = '$')\n",
    "area.update_layout(showlegend = True,title = {'text': 'Area Plot for TOP Cryptocurrencies','y':0.9,'x':0.5,'xanchor': 'center',\n",
    "                                              'yanchor': 'top'})\n",
    "\n",
    "area.show()"
   ]
  },
  {
   "cell_type": "code",
   "execution_count": null,
   "id": "4cdd2786",
   "metadata": {
    "id": "4cdd2786",
    "outputId": "54145f1a-d3e6-4b4b-b89f-8fb46b01f467"
   },
   "outputs": [],
   "source": [
    "area = px.area(data_frame = df,y  = \"Marketcap\" , x = \"Date\" , line_group=\"Name\", color = \"Name\",color_discrete_sequence=px.colors.qualitative.Alphabet, title = 'Market Cap Change of all Cryptocurrencies')\n",
    "\n",
    "area.update_xaxes(title_text = 'Date',rangeslider_visible = True,rangeselector = dict(buttons = list([\n",
    "            dict(count = 1, label = '1M', step = 'month', stepmode = 'backward'),\n",
    "            dict(count = 6, label = '6M', step = 'month', stepmode = 'backward'),\n",
    "            dict(count = 1, label = 'YTD', step = 'year', stepmode = 'todate'),\n",
    "            dict(count = 1, label = '1Y', step = 'year', stepmode = 'backward'),\n",
    "            dict(step = 'all')])))\n",
    "\n",
    "area.update_yaxes(title_text = 'Percentage Change ', ticksuffix = '%')\n",
    "area.update_layout(showlegend = True,title = {'text': 'MarKet Cap Change of all Cryptocurrencies','y':0.9,'x':0.5,'xanchor': 'center','yanchor': 'top'})\n",
    "\n",
    "area.show()"
   ]
  },
  {
   "cell_type": "markdown",
   "id": "5653c5d0",
   "metadata": {
    "id": "5653c5d0"
   },
   "source": [
    "### Conclusion:\n",
    "Bitcoin is the highest value according to market cap and etherum is 50% of it and all other are very less in comperision to it and USDT is 3 times less then the Etherum\n",
    "\n",
    "Investment in penny cryptocurrencies should be avoided, as depicted by the candlestick chart of USDT.\n",
    "\n",
    "It is visible in the candlestick chart of USDT that this cryptocurrency is volatile for a longer period.\n",
    "\n",
    "In 2021 the value of BTC was at all-time high of nearly 60,000$ which is almost 15 times more than the second-highest cryptocurrency ETH .\n",
    "\n",
    "Among the top cryptocurrencies, the growth of BTC, ETH, and USTD over the last five years was beneficial for the investors.\n",
    "\n",
    "In BTC and ETH --They have shown a pattern of 2 golden cross and 2 death cross over the years.\n",
    "The last crossing point of moving averages was golden cross hence it was bullish.\n",
    "\n",
    "In USDT --\n",
    "There are too many golden cross and death cross.\n",
    "Hence it is a volatile stock and should be avoided for the time being."
   ]
  },
  {
   "cell_type": "code",
   "execution_count": null,
   "id": "17ca01c6",
   "metadata": {
    "id": "17ca01c6"
   },
   "outputs": [],
   "source": []
  },
  {
   "cell_type": "code",
   "execution_count": null,
   "id": "a3a7334f",
   "metadata": {
    "id": "a3a7334f"
   },
   "outputs": [],
   "source": []
  },
  {
   "cell_type": "code",
   "execution_count": null,
   "id": "a7b72aea",
   "metadata": {
    "id": "a7b72aea"
   },
   "outputs": [],
   "source": []
  },
  {
   "cell_type": "code",
   "execution_count": null,
   "id": "d580eff7",
   "metadata": {
    "id": "d580eff7"
   },
   "outputs": [],
   "source": []
  },
  {
   "cell_type": "code",
   "execution_count": null,
   "id": "926cf4ca",
   "metadata": {
    "id": "926cf4ca"
   },
   "outputs": [],
   "source": []
  },
  {
   "cell_type": "code",
   "execution_count": null,
   "id": "e9b21818",
   "metadata": {
    "id": "e9b21818"
   },
   "outputs": [],
   "source": []
  },
  {
   "cell_type": "code",
   "execution_count": null,
   "id": "39046986",
   "metadata": {
    "id": "39046986"
   },
   "outputs": [],
   "source": []
  },
  {
   "cell_type": "code",
   "execution_count": null,
   "id": "b3ffdedf",
   "metadata": {
    "id": "b3ffdedf"
   },
   "outputs": [],
   "source": []
  },
  {
   "cell_type": "code",
   "execution_count": null,
   "id": "cc92a72d",
   "metadata": {
    "id": "cc92a72d"
   },
   "outputs": [],
   "source": []
  }
 ],
 "metadata": {
  "colab": {
   "name": "CryptoCurrency EDA.ipynb",
   "provenance": []
  },
  "kernelspec": {
   "display_name": "Python 3.8.8 ('base')",
   "language": "python",
   "name": "python3"
  },
  "language_info": {
   "codemirror_mode": {
    "name": "ipython",
    "version": 3
   },
   "file_extension": ".py",
   "mimetype": "text/x-python",
   "name": "python",
   "nbconvert_exporter": "python",
   "pygments_lexer": "ipython3",
   "version": "3.8.8"
  },
  "vscode": {
   "interpreter": {
    "hash": "de8019d2ca165b0509c8afbf35760160470f0f0527425d34ec159982397a41d4"
   }
  }
 },
 "nbformat": 4,
 "nbformat_minor": 5
}
